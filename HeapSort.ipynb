{
  "nbformat": 4,
  "nbformat_minor": 0,
  "metadata": {
    "colab": {
      "provenance": [],
      "authorship_tag": "ABX9TyPpj3+SKgPoEzn0fKQ9wfdM",
      "include_colab_link": true
    },
    "kernelspec": {
      "name": "python3",
      "display_name": "Python 3"
    },
    "language_info": {
      "name": "python"
    }
  },
  "cells": [
    {
      "cell_type": "markdown",
      "metadata": {
        "id": "view-in-github",
        "colab_type": "text"
      },
      "source": [
        "<a href=\"https://colab.research.google.com/github/RuslanDX/Agrothms/blob/main/HeapSort.ipynb\" target=\"_parent\"><img src=\"https://colab.research.google.com/assets/colab-badge.svg\" alt=\"Open In Colab\"/></a>"
      ]
    },
    {
      "cell_type": "code",
      "execution_count": null,
      "metadata": {
        "id": "9p9Uvk99h14O"
      },
      "outputs": [],
      "source": [
        "import random\n",
        "import time\n",
        "import numpy as np\n",
        "\n",
        "def LEFT(i):\n",
        "    return 2 * i + 1\n",
        "\n",
        "\n",
        "def RIGHT(i):\n",
        "    return 2 * i + 2\n",
        "\n",
        "\n",
        "def swap(A, i, j):\n",
        "    temp = A[i]\n",
        "    A[i] = A[j]\n",
        "    A[j] = temp\n",
        "\n",
        "\n",
        "def heapify(A, i, size):\n",
        "    left = LEFT(i)\n",
        "    right = RIGHT(i)\n",
        "\n",
        "    largest = i\n",
        "\n",
        "    if left < size and A[left] > A[i]:\n",
        "        largest = left\n",
        "\n",
        "    elif right < size and A[right] > A[largest]:\n",
        "        largest = right\n",
        "\n",
        "    if largest != i:\n",
        "        swap(A, i, largest)\n",
        "        heapify(A, largest, size)\n",
        "\n",
        "\n",
        "def pop(A, size):\n",
        "    if size <= 0:\n",
        "        return -1\n",
        "\n",
        "    top = A[0]\n",
        "\n",
        "    A[0] = A[size - 1]\n",
        "\n",
        "    heapify(A, 0, size - 1)\n",
        "\n",
        "    return top\n",
        "\n",
        "\n",
        "def heapsort(A):\n",
        "    n = len(A)\n",
        "\n",
        "    i = (n - 2) // 2\n",
        "    while i >= 0:\n",
        "        heapify(A, i, n)\n",
        "        i = i - 1\n",
        "\n",
        "    while n:\n",
        "        A[n - 1] = pop(A, n)\n",
        "        n = n - 1\n",
        "\n",
        "\n",
        "def get_average_results(relation, N):\n",
        "    result = []\n",
        "    for i in range(10,N):\n",
        "        times = []\n",
        "        for j in range(10):\n",
        "          A = [random.randint(10, 1000) for x in range(i)]\n",
        "          start_time = time.perf_counter()\n",
        "          heapsort(A)\n",
        "          end_time = time.perf_counter()\n",
        "          times.append((end_time - start_time))\n",
        "        result.append(i*np.log2(i) / sum(times)/10)\n",
        "\n",
        "    return result\n"
      ]
    }
  ]
}